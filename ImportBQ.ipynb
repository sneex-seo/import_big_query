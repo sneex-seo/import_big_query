{
 "cells": [
  {
   "cell_type": "code",
   "execution_count": null,
   "id": "drawn-possibility",
   "metadata": {},
   "outputs": [],
   "source": [
    "import pandas as pd\n",
    "from pandas.io import gbq\n",
    "import numpy as np\n",
    "from datetime import datetime\n",
    "seotags2 = pd.read_csv('import_BQ.csv')\n",
    "#Формируем разметку файла(это обязательно для даты, если она в формате y/m/d и все, если нужно получить не Timestamp, а Date)\n",
    "from google.oauth2 import service_account\n",
    "\n",
    "schema = [\n",
    "    {'name': 'Query', 'type': 'STRING'},\n",
    "    {'name': 'Frequency', 'type': 'INTEGER'},\n",
    "]\n",
    "credentials = service_account.Credentials.from_service_account_file(\n",
    "    'service_account.json',\n",
    ")\n",
    "\n",
    "seotags2.to_gbq(destination_table='SEO_DATA.название_таблицы', project_id='ID проекта', table_schema=schema, credentials=credentials, if_exists='replace')"
   ]
  },
  {
   "cell_type": "code",
   "execution_count": null,
   "id": "dental-spelling",
   "metadata": {},
   "outputs": [],
   "source": [
    "seotags2 = pd.read_csv('import_BQ.csv')\n",
    "print(seotags2)"
   ]
  },
  {
   "cell_type": "code",
   "execution_count": null,
   "id": "antique-palestinian",
   "metadata": {},
   "outputs": [],
   "source": [
    "#Формируем разметку файла(это обязательно для даты, если она в формате y/m/d и все, если нужно получить не Timestamp, а Date)\n",
    "from google.oauth2 import service_account\n",
    "\n",
    "schema = [\n",
    "    {'name': 'Query', 'type': 'STRING'},\n",
    "    {'name': 'Frequency', 'type': 'INTEGER'},\n",
    "]\n",
    "credentials = service_account.Credentials.from_service_account_file(\n",
    "    'service_account.json',\n",
    ")\n",
    "\n",
    "seotags2.to_gbq(destination_table='SEO_DATA.keys_freq', project_id='smartercontact-317512', table_schema=schema, credentials=credentials, if_exists='replace')"
   ]
  },
  {
   "cell_type": "code",
   "execution_count": null,
   "id": "prescribed-score",
   "metadata": {},
   "outputs": [],
   "source": []
  }
 ],
 "metadata": {
  "kernelspec": {
   "display_name": "Python 3",
   "language": "python",
   "name": "python3"
  },
  "language_info": {
   "codemirror_mode": {
    "name": "ipython",
    "version": 3
   },
   "file_extension": ".py",
   "mimetype": "text/x-python",
   "name": "python",
   "nbconvert_exporter": "python",
   "pygments_lexer": "ipython3",
   "version": "3.9.2"
  }
 },
 "nbformat": 4,
 "nbformat_minor": 5
}
